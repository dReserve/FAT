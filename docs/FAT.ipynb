{
 "cells": [
  {
   "cell_type": "markdown",
   "metadata": {},
   "source": [
    "# The FAT Stack\n",
    "\n",
    "This document will soon describe the basic ideas behind the FAT investment management software by explaining the train of thought witch ignited the evolution of the concept.\n",
    "\n",
    "For now it's a mess. :)"
   ]
  },
  {
   "cell_type": "markdown",
   "metadata": {},
   "source": [
    "## Scratchpad"
   ]
  },
  {
   "cell_type": "code",
   "execution_count": 2,
   "metadata": {},
   "outputs": [],
   "source": [
    "# We need the basic math module for log and exp functions\n",
    "import math\n",
    "import matplotlib.pyplot as plt\n",
    "import numpy as np"
   ]
  },
  {
   "cell_type": "code",
   "execution_count": 3,
   "metadata": {},
   "outputs": [
    {
     "name": "stdout",
     "output_type": "stream",
     "text": [
      "*** The market environment:\n",
      "Current price: 100.00 (4.605170)\n",
      "Summit: 1442.00 (7.273786)\n"
     ]
    }
   ],
   "source": [
    "print(\"*** The market environment:\")\n",
    "current_price = 100.\n",
    "summit = 1442.\n",
    "current_price_ln = math.log(current_price)\n",
    "summit_ln = math.log(summit)\n",
    "print(\"Current price: {0:.2f} ({1:f})\".format(current_price, current_price_ln))\n",
    "print(\"Summit: {0:.2f} ({1:f})\".format(summit, summit_ln))\n",
    "\n"
   ]
  },
  {
   "cell_type": "code",
   "execution_count": 30,
   "metadata": {},
   "outputs": [
    {
     "data": {
      "image/png": "[encoded data removed]",
      "text/plain": [
       "<matplotlib.figure.Figure at 0x7f979ad620f0>"
      ]
     },
     "metadata": {},
     "output_type": "display_data"
    },
    {
     "data": {
      "text/plain": [
       "array([  100.        ,   134.51599172,   180.94552029,   243.40066109,\n",
       "         327.41281312,   440.42259259,   592.43881818,   796.92495162,\n",
       "        1071.99150194,  1442.        ])"
      ]
     },
     "execution_count": 30,
     "metadata": {},
     "output_type": "execute_result"
    }
   ],
   "source": [
    "y = np.linspace(current_price_ln, summit_ln, 10)\n",
    "y = np.exp(y)\n",
    "x = np.linspace(1,90,10)\n",
    "# Plot the data\n",
    "plt.plot(x, y, label='linear')\n",
    "\n",
    "# Add a legend\n",
    "plt.legend()\n",
    "\n",
    "# Show the plot\n",
    "plt.show()\n",
    "y"
   ]
  },
  {
   "cell_type": "code",
   "execution_count": null,
   "metadata": {
    "collapsed": true
   },
   "outputs": [],
   "source": [
    "print(\"*** Strategy 1: Single order\") \n",
    "delta = summit - current_price\n",
    "ETH = 1.\n",
    "USD = 0.\n",
    "\n",
    "\n",
    "single_order = Order(summit, ETH)\n",
    "print(\"Single order strategy:\")\n",
    "print(str(single_order))\n",
    "print(\"Return: \" + str(summit-current_price))\n",
    "print(\"Interest: \" + str(summit/current_price) + \"\\n\")\n",
    "\n",
    "steps = 2\n",
    "\n",
    "price_step = delta / steps\n",
    "print(\"Simple ladder:\")\n",
    "print(\"Delta: \" + str(delta))\n",
    "print(\"Price step: \" + str(price_step))\n",
    "\n",
    "v = ETH / steps\n",
    "gain = 0\n",
    "for i in range(steps):\n",
    "    p = current_price + (i + 1) * price_step\n",
    "    print(i+1, p, v)\n",
    "    gain += p * v\n",
    "\n",
    "print(\"Return: \" + str(gain))"
   ]
  },
  {
   "cell_type": "markdown",
   "metadata": {},
   "source": [
    "## Data structures\n",
    "\n",
    "### Timeframe\n",
    "\n",
    "A timeframe is ten minutes long. FAT is not high-frequency trader, this value seems reasonable if we want to store a large amount of meaningful trade data in memory."
   ]
  },
  {
   "cell_type": "code",
   "execution_count": 2,
   "metadata": {},
   "outputs": [
    {
     "data": {
      "text/plain": [
       "'One year needs 52560 timeframes.'"
      ]
     },
     "execution_count": 2,
     "metadata": {},
     "output_type": "execute_result"
    }
   ],
   "source": [
    "ten_minutes = 1\n",
    "one_hour = ten_minutes * 6\n",
    "one_day = one_hour * 24\n",
    "one_year = one_day * 365\n",
    "\n",
    "\"One year needs {} timeframes.\".format(one_year)"
   ]
  },
  {
   "cell_type": "markdown",
   "metadata": {},
   "source": [
    "The data we store in a Timeframe:\n",
    "\n",
    "* Weighted avarage of the price [1f]\n",
    "* Median of the price [1f]\n",
    "* Volume [2f]\n",
    "* Logarythmic regression (calculated as a linear regression over logarithmic values) [2f]\n",
    "* Number of trades in the timeframe [1f]\n",
    "* Volatility [2f]\n",
    "* Min, Max (calculated as the dividing line between the upper and lower three percent of volume) [2f]"
   ]
  },
  {
   "cell_type": "code",
   "execution_count": 10,
   "metadata": {},
   "outputs": [
    {
     "name": "stdout",
     "output_type": "stream",
     "text": [
      "One timeframe needs 88 bytes.\n",
      "One year of a market needs 4.41 Mb of memory.\n"
     ]
    }
   ],
   "source": [
    "# Size calculation of market data memory usage\n",
    "timeframe = {\n",
    "    'weighted_average': 1,\n",
    "    'median': 1,\n",
    "    'volume': 2,\n",
    "    'logline': 2,\n",
    "    'trades': 1,\n",
    "    'volatility': 2,\n",
    "    'minmax': 2\n",
    "}\n",
    "\n",
    "timeframe_size = sum(timeframe.values()) * 8\n",
    "\n",
    "print(\"One timeframe needs {} bytes.\".format(timeframe_size))\n",
    "print(\"One year of a market needs {:.2f} Mb of memory.\".format(timeframe_size * float(one_year) / 2**20))"
   ]
  },
  {
   "cell_type": "markdown",
   "metadata": {},
   "source": [
    "## 1. Classes\n",
    "\n",
    "1.1. The executable classes are:\n",
    "\n",
    "* **Trader**, decribes a programmable trader, holds the system together.\n",
    "* **Simulator**, decribes a programmable trader, holds the system together.\n",
    "* **DataServer**, decribes a programmable trader, holds the system together.\n",
    "\n",
    "1.2. Base classes\n",
    "\n",
    "* **Instrument**, describes a financial instrument like a cryptocurrency.\n",
    "* **Pair**, describes a trading pair, like one available on an exchange.\n",
    "* **Exchange**, an entity that implements trading through an API between pairs.\n",
    "* **Person**, owner of some of the money represented in the system.\n",
    "* **Agent**, an automatic trader agent.\n",
    "\n",
    "1.3. Member classes\n",
    "\n",
    "* **Account**, user account information, like connection credentials to exchanges and wallets.\n",
    "* **Wallet**, a balance of an instrument, on an exchange\n",
    "* **Market**, a trading pair on an exchange.\n",
    "\n",
    "\n"
   ]
  },
  {
   "cell_type": "markdown",
   "metadata": {
    "collapsed": true
   },
   "source": [
    "### Instrument\n",
    "\n",
    "The instrument class stores the following information:\n",
    "\n",
    "* **code**, most used instrumet code, like \"ETH\", unique\n",
    "* **name**, name, unique\n",
    "* **alternative_codes**, list of alternative codes\n",
    "* **alternative_names**, list of alternative names\n",
    "\n",
    "The instrument class can provide information about the relations with other classes."
   ]
  },
  {
   "cell_type": "markdown",
   "metadata": {},
   "source": [
    "## Pair\n",
    "\n",
    "A base-quote pair of two instruments."
   ]
  },
  {
   "cell_type": "markdown",
   "metadata": {},
   "source": [
    "## 2. Architecture\n",
    "\n",
    "FAT is implemented as a set of modules designed to run in different processes.\n",
    "\n",
    "* **Data Server**, collects and provides trade data.\n",
    "* **Simulator**, simulates trades on historycal data and neural nets for predictions and trader training.\n",
    "* **Trader**, manages accounts on echanges.\n",
    "\n",
    "This separation of process has several benefits. **MISSING!**\n",
    "\n",
    "**GUI** is implemented in-browser in javascript and can connect to all processes separately and in an orchestrated manner too.\n",
    "\n",
    "### 2.1. Data server\n",
    "\n",
    "The data server is backed up by a relational database. This is mainly to add a rich research toolset instantenously to the stack.\n",
    "\n",
    "### 2.2. Simulator\n",
    "\n",
    "Stores trade data only in timeframes. Can do strategy simulations, a analysis effectively.\n",
    "\n",
    "### 2.3 Trader\n",
    "\n",
    "Connects to exchanges and manages accounts."
   ]
  },
  {
   "cell_type": "markdown",
   "metadata": {},
   "source": [
    "## 3. Sugar mini language\n",
    "\n",
    "Case insensitive for identifiers. A simple preprocessor that runs before python evaluates the expression."
   ]
  }
 ],
 "metadata": {
  "kernelspec": {
   "display_name": "Python 3",
   "language": "python",
   "name": "python3"
  },
  "language_info": {
   "codemirror_mode": {
    "name": "ipython",
    "version": 3
   },
   "file_extension": ".py",
   "mimetype": "text/x-python",
   "name": "python",
   "nbconvert_exporter": "python",
   "pygments_lexer": "ipython3",
   "version": "3.6.5"
  }
 },
 "nbformat": 4,
 "nbformat_minor": 2
}
